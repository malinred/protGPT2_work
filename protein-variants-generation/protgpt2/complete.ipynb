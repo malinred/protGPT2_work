{
 "cells": [
  {
   "cell_type": "code",
   "execution_count": null,
   "id": "f8761277",
   "metadata": {},
   "outputs": [
    {
     "name": "stdout",
     "output_type": "stream",
     "text": [
      "12\n"
     ]
    }
   ],
   "source": [
    "import sys\n",
    "import os\n",
    "import numpy as np\n",
    "from transformers import pipeline\n",
    "\n",
    "# Function to read a regular FASTA file\n",
    "def read_fasta(filepath, output_arr=False):\n",
    "    names = []\n",
    "    seqs = []\n",
    "    seq = ''\n",
    "    with open(filepath, 'r') as fin:\n",
    "        for line in fin:\n",
    "            if line.startswith('>'):\n",
    "                if seq:\n",
    "                    names.append(name)\n",
    "                    if output_arr:\n",
    "                        seqs.append(np.array(list(seq)))\n",
    "                    else:\n",
    "                        seqs.append(seq)\n",
    "                name = line[1:].strip()\n",
    "                seq = ''\n",
    "            else:\n",
    "                seq += line.strip()\n",
    "        if seq:\n",
    "            names.append(name)\n",
    "            if output_arr:\n",
    "                seqs.append(np.array(list(seq)))\n",
    "            else:\n",
    "                seqs.append(seq)\n",
    "    if output_arr:\n",
    "        seqs = np.array(seqs)\n",
    "    return names, seqs\n",
    "\n",
    "def insert_newlines(seq, every=60):\n",
    "    return '\\n'.join(seq[i:i+every] for i in range(0, len(seq), every))\n",
    "\n",
    "def output_fasta(names, seqs, output_file):\n",
    "    with open(output_file, 'w') as file:\n",
    "        for name, seq in zip(names, seqs):\n",
    "            file.write(name + '\\n')\n",
    "            file.write(seq + '\\n')\n",
    "\n",
    "def main():\n",
    "    input_file = r\"F:\\ayush_work\\BIO\\archive\\anatoxin_sequences.fasta\"\n",
    "    preprocessed_file = 'preprocessed.txt'\n",
    "    output_file = 'new_sequences.txt'\n",
    "\n",
    "    # Preprocess input data\n",
    "    _, input_seqs = read_fasta(input_file)\n",
    "    input_seqs = [insert_newlines(seq) for seq in input_seqs]\n",
    "    input_names = [\"<|endoftext|>\" for _ in range(len(input_seqs))]\n",
    "    output_fasta(input_names, input_seqs, preprocessed_file)\n",
    "\n",
    "    # Use ProtGPT2 model to generate new sequences\n",
    "    protgpt2 = pipeline('text-generation', model=\"nferruz/ProtGPT2\")\n",
    "\n",
    "    with open(preprocessed_file, 'r') as file:\n",
    "        sequences = file.readlines()\n",
    "\n",
    "    new_sequences = []\n",
    "    for seq in sequences:\n",
    "        new_seq = protgpt2(seq.strip(), max_length=100, do_sample=True, top_k=950, repetition_penalty=1.2, num_return_sequences=1)[0]['generated_text']\n",
    "        new_sequences.append(new_seq)\n",
    "\n",
    "    with open(output_file, 'w') as file:\n",
    "        for seq in new_sequences:\n",
    "            file.write(seq + '\\n')\n",
    "\n",
    "if __name__ == \"__main__\":\n",
    "    main()\n"
   ]
  }
 ],
 "metadata": {
  "kernelspec": {
   "display_name": "gen",
   "language": "python",
   "name": "python3"
  },
  "language_info": {
   "codemirror_mode": {
    "name": "ipython",
    "version": 3
   },
   "file_extension": ".py",
   "mimetype": "text/x-python",
   "name": "python",
   "nbconvert_exporter": "python",
   "pygments_lexer": "ipython3",
   "version": "3.11.0"
  }
 },
 "nbformat": 4,
 "nbformat_minor": 5
}
